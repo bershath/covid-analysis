{
 "cells": [
  {
   "cell_type": "code",
   "execution_count": 22,
   "metadata": {
    "collapsed": true
   },
   "outputs": [],
   "source": [
    "\"\"\"\n",
    "    Author : Tyronne Wickramarathne\n",
    "    Date   : 03-11-2021\n",
    "    Description : This Python code would insert Google Mobility Community data and Covid 19 data from the available countries into a MongoDB database.\n",
    "\n",
    "    E mail :\n",
    "\"\"\"\n",
    "import pandas as pd\n",
    "import numpy as np\n",
    "import warnings\n",
    "from pymongo import MongoClient\n",
    "from pprint import pprint\n",
    "from tabulate import tabulate\n",
    "warnings.filterwarnings('ignore')"
   ]
  },
  {
   "cell_type": "code",
   "execution_count": 23,
   "outputs": [
    {
     "data": {
      "text/plain": "                                                   0            1  \\\niso_code                                         AFG          AFG   \ncontinent                                       Asia         Asia   \nlocation                                 Afghanistan  Afghanistan   \ndate                                      2020-02-24   2020-02-25   \ntotal_cases                                      5.0          5.0   \n...                                              ...          ...   \nhuman_development_index                        0.511        0.511   \nexcess_mortality_cumulative_absolute             NaN          NaN   \nexcess_mortality_cumulative                      NaN          NaN   \nexcess_mortality                                 NaN          NaN   \nexcess_mortality_cumulative_per_million          NaN          NaN   \n\n                                                   2            3            4  \niso_code                                         AFG          AFG          AFG  \ncontinent                                       Asia         Asia         Asia  \nlocation                                 Afghanistan  Afghanistan  Afghanistan  \ndate                                      2020-02-26   2020-02-27   2020-02-28  \ntotal_cases                                      5.0          5.0          5.0  \n...                                              ...          ...          ...  \nhuman_development_index                        0.511        0.511        0.511  \nexcess_mortality_cumulative_absolute             NaN          NaN          NaN  \nexcess_mortality_cumulative                      NaN          NaN          NaN  \nexcess_mortality                                 NaN          NaN          NaN  \nexcess_mortality_cumulative_per_million          NaN          NaN          NaN  \n\n[65 rows x 5 columns]",
      "text/html": "<div>\n<style scoped>\n    .dataframe tbody tr th:only-of-type {\n        vertical-align: middle;\n    }\n\n    .dataframe tbody tr th {\n        vertical-align: top;\n    }\n\n    .dataframe thead th {\n        text-align: right;\n    }\n</style>\n<table border=\"1\" class=\"dataframe\">\n  <thead>\n    <tr style=\"text-align: right;\">\n      <th></th>\n      <th>0</th>\n      <th>1</th>\n      <th>2</th>\n      <th>3</th>\n      <th>4</th>\n    </tr>\n  </thead>\n  <tbody>\n    <tr>\n      <th>iso_code</th>\n      <td>AFG</td>\n      <td>AFG</td>\n      <td>AFG</td>\n      <td>AFG</td>\n      <td>AFG</td>\n    </tr>\n    <tr>\n      <th>continent</th>\n      <td>Asia</td>\n      <td>Asia</td>\n      <td>Asia</td>\n      <td>Asia</td>\n      <td>Asia</td>\n    </tr>\n    <tr>\n      <th>location</th>\n      <td>Afghanistan</td>\n      <td>Afghanistan</td>\n      <td>Afghanistan</td>\n      <td>Afghanistan</td>\n      <td>Afghanistan</td>\n    </tr>\n    <tr>\n      <th>date</th>\n      <td>2020-02-24</td>\n      <td>2020-02-25</td>\n      <td>2020-02-26</td>\n      <td>2020-02-27</td>\n      <td>2020-02-28</td>\n    </tr>\n    <tr>\n      <th>total_cases</th>\n      <td>5.0</td>\n      <td>5.0</td>\n      <td>5.0</td>\n      <td>5.0</td>\n      <td>5.0</td>\n    </tr>\n    <tr>\n      <th>...</th>\n      <td>...</td>\n      <td>...</td>\n      <td>...</td>\n      <td>...</td>\n      <td>...</td>\n    </tr>\n    <tr>\n      <th>human_development_index</th>\n      <td>0.511</td>\n      <td>0.511</td>\n      <td>0.511</td>\n      <td>0.511</td>\n      <td>0.511</td>\n    </tr>\n    <tr>\n      <th>excess_mortality_cumulative_absolute</th>\n      <td>NaN</td>\n      <td>NaN</td>\n      <td>NaN</td>\n      <td>NaN</td>\n      <td>NaN</td>\n    </tr>\n    <tr>\n      <th>excess_mortality_cumulative</th>\n      <td>NaN</td>\n      <td>NaN</td>\n      <td>NaN</td>\n      <td>NaN</td>\n      <td>NaN</td>\n    </tr>\n    <tr>\n      <th>excess_mortality</th>\n      <td>NaN</td>\n      <td>NaN</td>\n      <td>NaN</td>\n      <td>NaN</td>\n      <td>NaN</td>\n    </tr>\n    <tr>\n      <th>excess_mortality_cumulative_per_million</th>\n      <td>NaN</td>\n      <td>NaN</td>\n      <td>NaN</td>\n      <td>NaN</td>\n      <td>NaN</td>\n    </tr>\n  </tbody>\n</table>\n<p>65 rows × 5 columns</p>\n</div>"
     },
     "execution_count": 23,
     "metadata": {},
     "output_type": "execute_result"
    }
   ],
   "source": [
    "cd = pd.read_csv(\"~/nfs/data-science/data/owid-covid-data.csv\",low_memory=False)\n",
    "cd.head().transpose()"
   ],
   "metadata": {
    "collapsed": false,
    "pycharm": {
     "name": "#%%\n"
    }
   }
  },
  {
   "cell_type": "code",
   "execution_count": 24,
   "outputs": [
    {
     "data": {
      "text/plain": "                                                                              0  \\\ncountry_region_code                                                          AE   \ncountry_region                                             United Arab Emirates   \nsub_region_1                                                                NaN   \nsub_region_2                                                                NaN   \nmetro_area                                                                  NaN   \niso_3166_2_code                                                             NaN   \ncensus_fips_code                                                            NaN   \nplace_id                                            ChIJvRKrsd9IXj4RpwoIwFYv0zM   \ndate                                                                 2020-02-15   \nretail_and_recreation_percent_change_from_baseline                          0.0   \ngrocery_and_pharmacy_percent_change_from_baseline                           4.0   \nparks_percent_change_from_baseline                                          5.0   \ntransit_stations_percent_change_from_baseline                               0.0   \nworkplaces_percent_change_from_baseline                                     2.0   \nresidential_percent_change_from_baseline                                    1.0   \n\n                                                                              1  \\\ncountry_region_code                                                          AE   \ncountry_region                                             United Arab Emirates   \nsub_region_1                                                                NaN   \nsub_region_2                                                                NaN   \nmetro_area                                                                  NaN   \niso_3166_2_code                                                             NaN   \ncensus_fips_code                                                            NaN   \nplace_id                                            ChIJvRKrsd9IXj4RpwoIwFYv0zM   \ndate                                                                 2020-02-16   \nretail_and_recreation_percent_change_from_baseline                          1.0   \ngrocery_and_pharmacy_percent_change_from_baseline                           4.0   \nparks_percent_change_from_baseline                                          4.0   \ntransit_stations_percent_change_from_baseline                               1.0   \nworkplaces_percent_change_from_baseline                                     2.0   \nresidential_percent_change_from_baseline                                    1.0   \n\n                                                                              2  \\\ncountry_region_code                                                          AE   \ncountry_region                                             United Arab Emirates   \nsub_region_1                                                                NaN   \nsub_region_2                                                                NaN   \nmetro_area                                                                  NaN   \niso_3166_2_code                                                             NaN   \ncensus_fips_code                                                            NaN   \nplace_id                                            ChIJvRKrsd9IXj4RpwoIwFYv0zM   \ndate                                                                 2020-02-17   \nretail_and_recreation_percent_change_from_baseline                         -1.0   \ngrocery_and_pharmacy_percent_change_from_baseline                           1.0   \nparks_percent_change_from_baseline                                          5.0   \ntransit_stations_percent_change_from_baseline                               1.0   \nworkplaces_percent_change_from_baseline                                     2.0   \nresidential_percent_change_from_baseline                                    1.0   \n\n                                                                              3  \\\ncountry_region_code                                                          AE   \ncountry_region                                             United Arab Emirates   \nsub_region_1                                                                NaN   \nsub_region_2                                                                NaN   \nmetro_area                                                                  NaN   \niso_3166_2_code                                                             NaN   \ncensus_fips_code                                                            NaN   \nplace_id                                            ChIJvRKrsd9IXj4RpwoIwFYv0zM   \ndate                                                                 2020-02-18   \nretail_and_recreation_percent_change_from_baseline                         -2.0   \ngrocery_and_pharmacy_percent_change_from_baseline                           1.0   \nparks_percent_change_from_baseline                                          5.0   \ntransit_stations_percent_change_from_baseline                               0.0   \nworkplaces_percent_change_from_baseline                                     2.0   \nresidential_percent_change_from_baseline                                    1.0   \n\n                                                                              4  \ncountry_region_code                                                          AE  \ncountry_region                                             United Arab Emirates  \nsub_region_1                                                                NaN  \nsub_region_2                                                                NaN  \nmetro_area                                                                  NaN  \niso_3166_2_code                                                             NaN  \ncensus_fips_code                                                            NaN  \nplace_id                                            ChIJvRKrsd9IXj4RpwoIwFYv0zM  \ndate                                                                 2020-02-19  \nretail_and_recreation_percent_change_from_baseline                         -2.0  \ngrocery_and_pharmacy_percent_change_from_baseline                           0.0  \nparks_percent_change_from_baseline                                          4.0  \ntransit_stations_percent_change_from_baseline                              -1.0  \nworkplaces_percent_change_from_baseline                                     2.0  \nresidential_percent_change_from_baseline                                    1.0  ",
      "text/html": "<div>\n<style scoped>\n    .dataframe tbody tr th:only-of-type {\n        vertical-align: middle;\n    }\n\n    .dataframe tbody tr th {\n        vertical-align: top;\n    }\n\n    .dataframe thead th {\n        text-align: right;\n    }\n</style>\n<table border=\"1\" class=\"dataframe\">\n  <thead>\n    <tr style=\"text-align: right;\">\n      <th></th>\n      <th>0</th>\n      <th>1</th>\n      <th>2</th>\n      <th>3</th>\n      <th>4</th>\n    </tr>\n  </thead>\n  <tbody>\n    <tr>\n      <th>country_region_code</th>\n      <td>AE</td>\n      <td>AE</td>\n      <td>AE</td>\n      <td>AE</td>\n      <td>AE</td>\n    </tr>\n    <tr>\n      <th>country_region</th>\n      <td>United Arab Emirates</td>\n      <td>United Arab Emirates</td>\n      <td>United Arab Emirates</td>\n      <td>United Arab Emirates</td>\n      <td>United Arab Emirates</td>\n    </tr>\n    <tr>\n      <th>sub_region_1</th>\n      <td>NaN</td>\n      <td>NaN</td>\n      <td>NaN</td>\n      <td>NaN</td>\n      <td>NaN</td>\n    </tr>\n    <tr>\n      <th>sub_region_2</th>\n      <td>NaN</td>\n      <td>NaN</td>\n      <td>NaN</td>\n      <td>NaN</td>\n      <td>NaN</td>\n    </tr>\n    <tr>\n      <th>metro_area</th>\n      <td>NaN</td>\n      <td>NaN</td>\n      <td>NaN</td>\n      <td>NaN</td>\n      <td>NaN</td>\n    </tr>\n    <tr>\n      <th>iso_3166_2_code</th>\n      <td>NaN</td>\n      <td>NaN</td>\n      <td>NaN</td>\n      <td>NaN</td>\n      <td>NaN</td>\n    </tr>\n    <tr>\n      <th>census_fips_code</th>\n      <td>NaN</td>\n      <td>NaN</td>\n      <td>NaN</td>\n      <td>NaN</td>\n      <td>NaN</td>\n    </tr>\n    <tr>\n      <th>place_id</th>\n      <td>ChIJvRKrsd9IXj4RpwoIwFYv0zM</td>\n      <td>ChIJvRKrsd9IXj4RpwoIwFYv0zM</td>\n      <td>ChIJvRKrsd9IXj4RpwoIwFYv0zM</td>\n      <td>ChIJvRKrsd9IXj4RpwoIwFYv0zM</td>\n      <td>ChIJvRKrsd9IXj4RpwoIwFYv0zM</td>\n    </tr>\n    <tr>\n      <th>date</th>\n      <td>2020-02-15</td>\n      <td>2020-02-16</td>\n      <td>2020-02-17</td>\n      <td>2020-02-18</td>\n      <td>2020-02-19</td>\n    </tr>\n    <tr>\n      <th>retail_and_recreation_percent_change_from_baseline</th>\n      <td>0.0</td>\n      <td>1.0</td>\n      <td>-1.0</td>\n      <td>-2.0</td>\n      <td>-2.0</td>\n    </tr>\n    <tr>\n      <th>grocery_and_pharmacy_percent_change_from_baseline</th>\n      <td>4.0</td>\n      <td>4.0</td>\n      <td>1.0</td>\n      <td>1.0</td>\n      <td>0.0</td>\n    </tr>\n    <tr>\n      <th>parks_percent_change_from_baseline</th>\n      <td>5.0</td>\n      <td>4.0</td>\n      <td>5.0</td>\n      <td>5.0</td>\n      <td>4.0</td>\n    </tr>\n    <tr>\n      <th>transit_stations_percent_change_from_baseline</th>\n      <td>0.0</td>\n      <td>1.0</td>\n      <td>1.0</td>\n      <td>0.0</td>\n      <td>-1.0</td>\n    </tr>\n    <tr>\n      <th>workplaces_percent_change_from_baseline</th>\n      <td>2.0</td>\n      <td>2.0</td>\n      <td>2.0</td>\n      <td>2.0</td>\n      <td>2.0</td>\n    </tr>\n    <tr>\n      <th>residential_percent_change_from_baseline</th>\n      <td>1.0</td>\n      <td>1.0</td>\n      <td>1.0</td>\n      <td>1.0</td>\n      <td>1.0</td>\n    </tr>\n  </tbody>\n</table>\n</div>"
     },
     "execution_count": 24,
     "metadata": {},
     "output_type": "execute_result"
    }
   ],
   "source": [
    "md = pd.read_csv(\"~/nfs/data-science/data/google-mobility.csv\",low_memory=False)\n",
    "md.head().transpose()"
   ],
   "metadata": {
    "collapsed": false,
    "pycharm": {
     "name": "#%%\n"
    }
   }
  },
  {
   "cell_type": "code",
   "execution_count": 25,
   "outputs": [],
   "source": [
    "client = MongoClient()"
   ],
   "metadata": {
    "collapsed": false,
    "pycharm": {
     "name": "#%%\n"
    }
   }
  },
  {
   "cell_type": "code",
   "execution_count": 26,
   "outputs": [
    {
     "data": {
      "text/plain": "  country_region_code        country_region sub_region_1 sub_region_2  \\\n0                  AE  United Arab Emirates          NaN          NaN   \n1                  AE  United Arab Emirates          NaN          NaN   \n2                  AE  United Arab Emirates          NaN          NaN   \n3                  AE  United Arab Emirates          NaN          NaN   \n4                  AE  United Arab Emirates          NaN          NaN   \n\n         date  retail_and_recreation_percent_change_from_baseline  \\\n0  2020-02-15                                                0.0    \n1  2020-02-16                                                1.0    \n2  2020-02-17                                               -1.0    \n3  2020-02-18                                               -2.0    \n4  2020-02-19                                               -2.0    \n\n   grocery_and_pharmacy_percent_change_from_baseline  \\\n0                                                4.0   \n1                                                4.0   \n2                                                1.0   \n3                                                1.0   \n4                                                0.0   \n\n   parks_percent_change_from_baseline  \\\n0                                 5.0   \n1                                 4.0   \n2                                 5.0   \n3                                 5.0   \n4                                 4.0   \n\n   transit_stations_percent_change_from_baseline  \\\n0                                            0.0   \n1                                            1.0   \n2                                            1.0   \n3                                            0.0   \n4                                           -1.0   \n\n   workplaces_percent_change_from_baseline  \\\n0                                      2.0   \n1                                      2.0   \n2                                      2.0   \n3                                      2.0   \n4                                      2.0   \n\n   residential_percent_change_from_baseline  \n0                                       1.0  \n1                                       1.0  \n2                                       1.0  \n3                                       1.0  \n4                                       1.0  ",
      "text/html": "<div>\n<style scoped>\n    .dataframe tbody tr th:only-of-type {\n        vertical-align: middle;\n    }\n\n    .dataframe tbody tr th {\n        vertical-align: top;\n    }\n\n    .dataframe thead th {\n        text-align: right;\n    }\n</style>\n<table border=\"1\" class=\"dataframe\">\n  <thead>\n    <tr style=\"text-align: right;\">\n      <th></th>\n      <th>country_region_code</th>\n      <th>country_region</th>\n      <th>sub_region_1</th>\n      <th>sub_region_2</th>\n      <th>date</th>\n      <th>retail_and_recreation_percent_change_from_baseline</th>\n      <th>grocery_and_pharmacy_percent_change_from_baseline</th>\n      <th>parks_percent_change_from_baseline</th>\n      <th>transit_stations_percent_change_from_baseline</th>\n      <th>workplaces_percent_change_from_baseline</th>\n      <th>residential_percent_change_from_baseline</th>\n    </tr>\n  </thead>\n  <tbody>\n    <tr>\n      <th>0</th>\n      <td>AE</td>\n      <td>United Arab Emirates</td>\n      <td>NaN</td>\n      <td>NaN</td>\n      <td>2020-02-15</td>\n      <td>0.0</td>\n      <td>4.0</td>\n      <td>5.0</td>\n      <td>0.0</td>\n      <td>2.0</td>\n      <td>1.0</td>\n    </tr>\n    <tr>\n      <th>1</th>\n      <td>AE</td>\n      <td>United Arab Emirates</td>\n      <td>NaN</td>\n      <td>NaN</td>\n      <td>2020-02-16</td>\n      <td>1.0</td>\n      <td>4.0</td>\n      <td>4.0</td>\n      <td>1.0</td>\n      <td>2.0</td>\n      <td>1.0</td>\n    </tr>\n    <tr>\n      <th>2</th>\n      <td>AE</td>\n      <td>United Arab Emirates</td>\n      <td>NaN</td>\n      <td>NaN</td>\n      <td>2020-02-17</td>\n      <td>-1.0</td>\n      <td>1.0</td>\n      <td>5.0</td>\n      <td>1.0</td>\n      <td>2.0</td>\n      <td>1.0</td>\n    </tr>\n    <tr>\n      <th>3</th>\n      <td>AE</td>\n      <td>United Arab Emirates</td>\n      <td>NaN</td>\n      <td>NaN</td>\n      <td>2020-02-18</td>\n      <td>-2.0</td>\n      <td>1.0</td>\n      <td>5.0</td>\n      <td>0.0</td>\n      <td>2.0</td>\n      <td>1.0</td>\n    </tr>\n    <tr>\n      <th>4</th>\n      <td>AE</td>\n      <td>United Arab Emirates</td>\n      <td>NaN</td>\n      <td>NaN</td>\n      <td>2020-02-19</td>\n      <td>-2.0</td>\n      <td>0.0</td>\n      <td>4.0</td>\n      <td>-1.0</td>\n      <td>2.0</td>\n      <td>1.0</td>\n    </tr>\n  </tbody>\n</table>\n</div>"
     },
     "execution_count": 26,
     "metadata": {},
     "output_type": "execute_result"
    }
   ],
   "source": [
    "md_stripped = md.drop(columns=['metro_area','iso_3166_2_code','census_fips_code','place_id'])\n",
    "md_stripped.head()"
   ],
   "metadata": {
    "collapsed": false,
    "pycharm": {
     "name": "#%%\n"
    }
   }
  },
  {
   "cell_type": "code",
   "execution_count": 27,
   "outputs": [],
   "source": [
    "md_stripped = md_stripped.rename(columns={'country_region_code': 'Country_Code', 'country_region': 'Country','sub_region_1':'State','sub_region_2':'Suburb','date':'Date','retail_and_recreation_percent_change_from_baseline':'Retail_Recreation','grocery_and_pharmacy_percent_change_from_baseline':'Grocery_Pharmacy','parks_percent_change_from_baseline':'Parks','transit_stations_percent_change_from_baseline':'Transit','workplaces_percent_change_from_baseline':'Workplace','residential_percent_change_from_baseline':'Residential'})\n",
    "\n",
    "#Creating a database, 'pandemic' to host pandemic data\n",
    "db = client[\"pandemic\"]\n",
    "\n",
    "#Inserting Google Community Mobility Data to the table 'mobility'\n",
    "mobility = db[\"mobility\"]\n",
    "result = mobility.insert_many(md_stripped.to_dict('records'))\n",
    "\n",
    "#Inserting Covid Cases data to the table 'covid'\n",
    "covid = db[\"covid\"]\n",
    "result = covid.insert_many(cd.to_dict('records'))\n",
    "\n",
    "client.close()"
   ],
   "metadata": {
    "collapsed": false,
    "pycharm": {
     "name": "#%%\n"
    }
   }
  },
  {
   "cell_type": "code",
   "execution_count": 27,
   "outputs": [],
   "source": [],
   "metadata": {
    "collapsed": false,
    "pycharm": {
     "name": "#%%\n"
    }
   }
  }
 ],
 "metadata": {
  "kernelspec": {
   "display_name": "Python 3",
   "language": "python",
   "name": "python3"
  },
  "language_info": {
   "codemirror_mode": {
    "name": "ipython",
    "version": 2
   },
   "file_extension": ".py",
   "mimetype": "text/x-python",
   "name": "python",
   "nbconvert_exporter": "python",
   "pygments_lexer": "ipython2",
   "version": "2.7.6"
  }
 },
 "nbformat": 4,
 "nbformat_minor": 0
}